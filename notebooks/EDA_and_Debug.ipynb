{
 "cells": [
  {
   "cell_type": "markdown",
   "id": "42632b3d",
   "metadata": {},
   "source": [
    "Exploratory Data Analysis and Debug Notebook\n",
    "- Inspect raw metadata\n",
    "- Visualize a few sample images\n",
    "- Plot age/gender distributions\n",
    "- Try small-scale runs of your model (e.g., test on 50 samples)"
   ]
  },
  {
   "cell_type": "code",
   "execution_count": null,
   "id": "9ca3f172",
   "metadata": {
    "vscode": {
     "languageId": "plaintext"
    }
   },
   "outputs": [],
   "source": [
    "# Cell 1: Load metadata\n",
    "import scipy.io\n",
    "import os\n",
    "from PIL import Image\n",
    "import matplotlib.pyplot as plt\n",
    "import numpy as np\n",
    "\n",
    "mat = scipy.io.loadmat(\"../data/wiki/wiki.mat\")\n",
    "wiki = mat['wiki'][0, 0]\n",
    "full_paths = wiki['full_path'][0]\n",
    "ages = wiki['photo_taken'][0] - (wiki['dob'][0] / 365.25 + 1969)\n",
    "genders = wiki['gender'][0]"
   ]
  },
  {
   "cell_type": "code",
   "execution_count": null,
   "id": "76ae0720",
   "metadata": {
    "vscode": {
     "languageId": "plaintext"
    }
   },
   "outputs": [],
   "source": [
    "# Cell 2: Show 5 random faces\n",
    "for i in np.random.choice(len(full_paths), 5):\n",
    "    img_path = os.path.join(\"../data/wiki\", full_paths[i][0])\n",
    "    age = ages[i]\n",
    "    gender = \"Female\" if genders[i] == 0 else \"Male\"\n",
    "    \n",
    "    img = Image.open(img_path)\n",
    "    plt.imshow(img)\n",
    "    plt.title(f\"Age: {int(age)} | Gender: {gender}\")\n",
    "    plt.axis(\"off\")\n",
    "    plt.show()"
   ]
  },
  {
   "cell_type": "code",
   "execution_count": null,
   "id": "b072adf0",
   "metadata": {
    "vscode": {
     "languageId": "plaintext"
    }
   },
   "outputs": [],
   "source": [
    "# Cell 3: Plot age distribution\n",
    "plt.hist(ages[~np.isnan(ages)], bins=30, color='skyblue')\n",
    "plt.title(\"Age Distribution in Wiki Dataset\")\n",
    "plt.xlabel(\"Age\")\n",
    "plt.ylabel(\"Count\")\n",
    "plt.grid(True)\n",
    "plt.show()"
   ]
  }
 ],
 "metadata": {
  "language_info": {
   "name": "python"
  }
 },
 "nbformat": 4,
 "nbformat_minor": 5
}
